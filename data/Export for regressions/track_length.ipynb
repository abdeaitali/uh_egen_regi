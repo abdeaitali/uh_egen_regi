{
 "cells": [
  {
   "cell_type": "markdown",
   "metadata": {},
   "source": [
    "# Track length per contract region (and year)"
   ]
  },
  {
   "cell_type": "markdown",
   "metadata": {},
   "source": [
    "## Read input data"
   ]
  },
  {
   "cell_type": "code",
   "execution_count": 20,
   "metadata": {},
   "outputs": [],
   "source": [
    "import pandas as pd # type: ignore\n",
    "\n",
    "# Step 1: Load the Excel file \n",
    "excel_file_path = \"../Python matching/raw_data/Kontraktsområde, kontrakt, bandel.xlsx\"\n",
    "contract_df = pd.read_excel(excel_file_path, sheet_name=\"Kontraktsområden 2011-2023\")\n",
    "length_df = pd.read_excel(excel_file_path, sheet_name=\"Bandelar & driftpl 2011-2023\")"
   ]
  },
  {
   "cell_type": "code",
   "execution_count": 21,
   "metadata": {},
   "outputs": [],
   "source": [
    "# rename column Kontraktsområdesnamn [kan behöva justeras] to Kontraktsområdesnamn\n",
    "contract_df.rename(columns={'Kontraktsområdesnamn [kan behöva justeras]': \"Kontraktsområdesnamn\"}, inplace=True)\n",
    "# rename column Kontraktsnummer \\n(Diarienummer) to Kontraktsnummer\n",
    "contract_df.rename(columns={\"Kontraktsnummer \\n(Diarienummer)\": \"Kontraktsnummer\"}, inplace=True)"
   ]
  },
  {
   "cell_type": "code",
   "execution_count": 22,
   "metadata": {},
   "outputs": [
    {
     "name": "stdout",
     "output_type": "stream",
     "text": [
      "Index(['År', 'Kontraktsområdesnamn', 'Fiktivt områdesnummer',\n",
      "       'Kontraktsnummer', 'Starttid', 'Sluttid', 'Bandel', 'Del av bandel',\n",
      "       'Övergång till nytt område', 'Övergång från gammalt område',\n",
      "       'Kommentar', 'Antagande'],\n",
      "      dtype='object')\n",
      "Index(['år', 'bandel_fr', 'plats_fr', 'bandel_ti', 'plats_ti', 'km_fr_min',\n",
      "       'km_ti_max'],\n",
      "      dtype='object')\n"
     ]
    }
   ],
   "source": [
    "print(contract_df.columns)\n",
    "print(length_df.columns)"
   ]
  },
  {
   "cell_type": "code",
   "execution_count": 23,
   "metadata": {},
   "outputs": [
    {
     "data": {
      "text/plain": [
       "Index(['Banlangd', 'BdlNr', 'Bandel', 'Plats_sign', 'Plats', 'Forbind',\n",
       "       'Spår_huvud_sido', 'UNE', 'Spårnummer'],\n",
       "      dtype='object')"
      ]
     },
     "execution_count": 23,
     "metadata": {},
     "output_type": "execute_result"
    }
   ],
   "source": [
    "excel_file_path = \"../Python matching/raw_data/BIS-data 2024-01-09 - Bandel, plats och förbindelselinje, alla spår.xlsx\"\n",
    "bis_df = pd.read_excel(excel_file_path)\n",
    "bis_df.columns"
   ]
  },
  {
   "cell_type": "markdown",
   "metadata": {},
   "source": [
    "## Processing"
   ]
  },
  {
   "cell_type": "markdown",
   "metadata": {},
   "source": [
    "In length_df, there are some rows where bandel_ti is missing, we use the existing mapping (between plats_fr and bandel_fr/km_fr_min, removing duplicates) to find missing bandel_ti and km_ti_max based on plats_ti."
   ]
  },
  {
   "cell_type": "code",
   "execution_count": 24,
   "metadata": {},
   "outputs": [],
   "source": [
    "# Create a mapping between (år, plats_fr) and km_fr_min\n",
    "km_mapping = length_df[['år', 'plats_fr', 'km_fr_min']].drop_duplicates().set_index(['år', 'plats_fr'])['km_fr_min'].to_dict()\n",
    "# Create a mapping between (år, plats_fr) and bandel_fr\n",
    "bdl_mapping = length_df[['år', 'plats_fr', 'bandel_fr']].drop_duplicates().set_index(['år', 'plats_fr'])['bandel_fr'].to_dict()\n",
    "\n",
    "# Fill in the missing bandel_ti and km_ti_max values based on plats_ti and år\n",
    "length_df['bandel_ti'] = length_df.apply(lambda row: bdl_mapping.get((row['år'], row['plats_ti']), row['bandel_ti']), axis=1)\n",
    "length_df['km_ti_max'] = length_df.apply(lambda row: km_mapping.get((row['år'], row['plats_ti']), row['km_ti_max']), axis=1)"
   ]
  },
  {
   "cell_type": "code",
   "execution_count": 25,
   "metadata": {},
   "outputs": [],
   "source": [
    "# remove rows with missing km_ti_max\n",
    "length_df = length_df[length_df['km_ti_max'].notnull()]"
   ]
  },
  {
   "cell_type": "code",
   "execution_count": 5,
   "metadata": {},
   "outputs": [],
   "source": [
    "# # remove rows from contract_df where Övergång till nytt område is 1\n",
    "# print(len(contract_df))\n",
    "# contract_df = contract_df[contract_df[\"Övergång till nytt område\"] != 1]\n",
    "# print(len(contract_df))"
   ]
  },
  {
   "cell_type": "code",
   "execution_count": 26,
   "metadata": {},
   "outputs": [
    {
     "name": "stdout",
     "output_type": "stream",
     "text": [
      "3360\n",
      "3116\n"
     ]
    }
   ],
   "source": [
    "# if duplicates (same 'År', 'Bandel') are found in contract_df, keep the one with Övergång från gammalt område = 1\n",
    "# sort by 'Övergång från gammalt område' and drop duplicates\n",
    "print(len(contract_df))\n",
    "contract_df = contract_df.sort_values('Övergång från gammalt område').drop_duplicates(subset=['År', 'Bandel'], keep='first')\n",
    "# reset the order of the rows\n",
    "contract_df = contract_df.sort_index()\n",
    "print(len(contract_df))"
   ]
  },
  {
   "cell_type": "markdown",
   "metadata": {},
   "source": [
    "## Track section length (km_fr_ti)"
   ]
  },
  {
   "cell_type": "markdown",
   "metadata": {},
   "source": [
    "For each year, we first add columns (Kontraktsområdesnamn_fr and Kontraktsområdesnamn_ti) to length_df based on (bandel_fr and bandel_til) using contract_df. We have the matching between Kontraktsområdesnamn and Bandel for a given År."
   ]
  },
  {
   "cell_type": "code",
   "execution_count": 27,
   "metadata": {},
   "outputs": [],
   "source": [
    "# Merge length_df with contract_df to get Kontraktsområdesnamn_fr\n",
    "length_df_processed = length_df.merge(contract_df[['År', 'Bandel', 'Kontraktsområdesnamn']], \n",
    "                            left_on=['år', 'bandel_fr'], \n",
    "                            right_on=['År', 'Bandel'], \n",
    "                            how='left')\n",
    "length_df_processed.rename(columns={'Kontraktsområdesnamn': 'Kontraktsområdesnamn_fr'}, inplace=True)\n",
    "length_df_processed.drop(columns=['År', 'Bandel'], inplace=True)\n",
    "\n",
    "# Merge length_df_processed with contract_df to get Kontraktsområdesnamn_ti\n",
    "length_df_processed = length_df_processed.merge(contract_df[['År', 'Bandel', 'Kontraktsområdesnamn']], \n",
    "                            left_on=['år', 'bandel_ti'], \n",
    "                            right_on=['År', 'Bandel'], \n",
    "                            how='left')\n",
    "length_df_processed.rename(columns={'Kontraktsområdesnamn': 'Kontraktsområdesnamn_ti'}, inplace=True)\n",
    "length_df_processed.drop(columns=['År', 'Bandel'], inplace=True)"
   ]
  },
  {
   "cell_type": "code",
   "execution_count": 28,
   "metadata": {},
   "outputs": [
    {
     "name": "stdout",
     "output_type": "stream",
     "text": [
      "37911\n",
      "34413\n"
     ]
    }
   ],
   "source": [
    "# remove rows where Kontraktsområdesnamn_fr and Kontraktsområdesnamn_ti is NaN\n",
    "print(len(length_df_processed))\n",
    "length_df_processed = length_df_processed[(length_df_processed['Kontraktsområdesnamn_fr'].notna()) & (length_df_processed['Kontraktsområdesnamn_ti'].notna())]\n",
    "print(len(length_df_processed))"
   ]
  },
  {
   "cell_type": "code",
   "execution_count": 29,
   "metadata": {},
   "outputs": [
    {
     "name": "stdout",
     "output_type": "stream",
     "text": [
      "False\n"
     ]
    },
    {
     "data": {
      "text/html": [
       "<div>\n",
       "<style scoped>\n",
       "    .dataframe tbody tr th:only-of-type {\n",
       "        vertical-align: middle;\n",
       "    }\n",
       "\n",
       "    .dataframe tbody tr th {\n",
       "        vertical-align: top;\n",
       "    }\n",
       "\n",
       "    .dataframe thead th {\n",
       "        text-align: right;\n",
       "    }\n",
       "</style>\n",
       "<table border=\"1\" class=\"dataframe\">\n",
       "  <thead>\n",
       "    <tr style=\"text-align: right;\">\n",
       "      <th></th>\n",
       "      <th>år</th>\n",
       "      <th>bandel_fr</th>\n",
       "      <th>plats_fr</th>\n",
       "      <th>bandel_ti</th>\n",
       "      <th>plats_ti</th>\n",
       "      <th>km_fr_min</th>\n",
       "      <th>km_ti_max</th>\n",
       "      <th>Kontraktsområdesnamn_fr</th>\n",
       "      <th>Kontraktsområdesnamn_ti</th>\n",
       "    </tr>\n",
       "  </thead>\n",
       "  <tbody>\n",
       "    <tr>\n",
       "      <th>117</th>\n",
       "      <td>2011</td>\n",
       "      <td>120</td>\n",
       "      <td>Bdn</td>\n",
       "      <td>137.0</td>\n",
       "      <td>Bud</td>\n",
       "      <td>1147.52994</td>\n",
       "      <td>1152.514020</td>\n",
       "      <td>Luleå-Gällivare-Koskullskulle</td>\n",
       "      <td>Haparandabanan</td>\n",
       "    </tr>\n",
       "    <tr>\n",
       "      <th>118</th>\n",
       "      <td>2011</td>\n",
       "      <td>120</td>\n",
       "      <td>Bud</td>\n",
       "      <td>137.0</td>\n",
       "      <td>Bud</td>\n",
       "      <td>1147.52999</td>\n",
       "      <td>1152.514020</td>\n",
       "      <td>Luleå-Gällivare-Koskullskulle</td>\n",
       "      <td>Haparandabanan</td>\n",
       "    </tr>\n",
       "    <tr>\n",
       "      <th>157</th>\n",
       "      <td>2011</td>\n",
       "      <td>124</td>\n",
       "      <td>Ht</td>\n",
       "      <td>120.0</td>\n",
       "      <td>Bds</td>\n",
       "      <td>1136.23002</td>\n",
       "      <td>1141.700020</td>\n",
       "      <td>Holmsund-Boden Södra inklusive tvärbanor</td>\n",
       "      <td>Luleå-Gällivare-Koskullskulle</td>\n",
       "    </tr>\n",
       "    <tr>\n",
       "      <th>206</th>\n",
       "      <td>2011</td>\n",
       "      <td>129</td>\n",
       "      <td>Dgm</td>\n",
       "      <td>146.0</td>\n",
       "      <td>Vns</td>\n",
       "      <td>847.93802</td>\n",
       "      <td>859.133020</td>\n",
       "      <td>Långsele-Vännäs och Mellansel-Örnsköldsvik</td>\n",
       "      <td>Holmsund-Boden Södra inklusive tvärbanor</td>\n",
       "    </tr>\n",
       "    <tr>\n",
       "      <th>207</th>\n",
       "      <td>2011</td>\n",
       "      <td>130</td>\n",
       "      <td>Fsm</td>\n",
       "      <td>153.0</td>\n",
       "      <td>Fsm</td>\n",
       "      <td>0.45069</td>\n",
       "      <td>0.749724</td>\n",
       "      <td>Långsele-Vännäs och Mellansel-Örnsköldsvik</td>\n",
       "      <td>Hällnäs-Storuman och Forsmo-Hoting</td>\n",
       "    </tr>\n",
       "    <tr>\n",
       "      <th>...</th>\n",
       "      <td>...</td>\n",
       "      <td>...</td>\n",
       "      <td>...</td>\n",
       "      <td>...</td>\n",
       "      <td>...</td>\n",
       "      <td>...</td>\n",
       "      <td>...</td>\n",
       "      <td>...</td>\n",
       "      <td>...</td>\n",
       "    </tr>\n",
       "    <tr>\n",
       "      <th>37724</th>\n",
       "      <td>2023</td>\n",
       "      <td>909</td>\n",
       "      <td>Hm</td>\n",
       "      <td>941.0</td>\n",
       "      <td>Hm</td>\n",
       "      <td>0.35800</td>\n",
       "      <td>1.250000</td>\n",
       "      <td>Södra stambanan 2, del 1+2</td>\n",
       "      <td>Blekinge kustbana och kust till kustbana</td>\n",
       "    </tr>\n",
       "    <tr>\n",
       "      <th>37777</th>\n",
       "      <td>2023</td>\n",
       "      <td>925</td>\n",
       "      <td>Lma</td>\n",
       "      <td>901.0</td>\n",
       "      <td>Al</td>\n",
       "      <td>289.92300</td>\n",
       "      <td>613.553000</td>\n",
       "      <td>Västkustbanan Syd</td>\n",
       "      <td>Malmö sydöstra Skåne</td>\n",
       "    </tr>\n",
       "    <tr>\n",
       "      <th>37795</th>\n",
       "      <td>2023</td>\n",
       "      <td>931</td>\n",
       "      <td>Bjm</td>\n",
       "      <td>941.0</td>\n",
       "      <td>Hm</td>\n",
       "      <td>56.67600</td>\n",
       "      <td>1.250000</td>\n",
       "      <td>Västkustbanan Syd</td>\n",
       "      <td>Blekinge kustbana och kust till kustbana</td>\n",
       "    </tr>\n",
       "    <tr>\n",
       "      <th>37825</th>\n",
       "      <td>2023</td>\n",
       "      <td>935</td>\n",
       "      <td>Tp</td>\n",
       "      <td>912.0</td>\n",
       "      <td>E</td>\n",
       "      <td>34.09900</td>\n",
       "      <td>584.867000</td>\n",
       "      <td>Västkustbanan Syd</td>\n",
       "      <td>Södra stambanan 2, del 1+2</td>\n",
       "    </tr>\n",
       "    <tr>\n",
       "      <th>37830</th>\n",
       "      <td>2023</td>\n",
       "      <td>940</td>\n",
       "      <td>Kg</td>\n",
       "      <td>912.0</td>\n",
       "      <td>Lu</td>\n",
       "      <td>22.50700</td>\n",
       "      <td>29.524000</td>\n",
       "      <td>Västkustbanan Syd</td>\n",
       "      <td>Södra stambanan 2, del 1+2</td>\n",
       "    </tr>\n",
       "  </tbody>\n",
       "</table>\n",
       "<p>6389 rows × 9 columns</p>\n",
       "</div>"
      ],
      "text/plain": [
       "         år  bandel_fr plats_fr  bandel_ti plats_ti   km_fr_min    km_ti_max  \\\n",
       "117    2011        120      Bdn      137.0      Bud  1147.52994  1152.514020   \n",
       "118    2011        120      Bud      137.0      Bud  1147.52999  1152.514020   \n",
       "157    2011        124       Ht      120.0      Bds  1136.23002  1141.700020   \n",
       "206    2011        129      Dgm      146.0      Vns   847.93802   859.133020   \n",
       "207    2011        130      Fsm      153.0      Fsm     0.45069     0.749724   \n",
       "...     ...        ...      ...        ...      ...         ...          ...   \n",
       "37724  2023        909       Hm      941.0       Hm     0.35800     1.250000   \n",
       "37777  2023        925      Lma      901.0       Al   289.92300   613.553000   \n",
       "37795  2023        931      Bjm      941.0       Hm    56.67600     1.250000   \n",
       "37825  2023        935       Tp      912.0        E    34.09900   584.867000   \n",
       "37830  2023        940       Kg      912.0       Lu    22.50700    29.524000   \n",
       "\n",
       "                          Kontraktsområdesnamn_fr  \\\n",
       "117                 Luleå-Gällivare-Koskullskulle   \n",
       "118                 Luleå-Gällivare-Koskullskulle   \n",
       "157      Holmsund-Boden Södra inklusive tvärbanor   \n",
       "206    Långsele-Vännäs och Mellansel-Örnsköldsvik   \n",
       "207    Långsele-Vännäs och Mellansel-Örnsköldsvik   \n",
       "...                                           ...   \n",
       "37724                  Södra stambanan 2, del 1+2   \n",
       "37777                           Västkustbanan Syd   \n",
       "37795                           Västkustbanan Syd   \n",
       "37825                           Västkustbanan Syd   \n",
       "37830                           Västkustbanan Syd   \n",
       "\n",
       "                        Kontraktsområdesnamn_ti  \n",
       "117                              Haparandabanan  \n",
       "118                              Haparandabanan  \n",
       "157               Luleå-Gällivare-Koskullskulle  \n",
       "206    Holmsund-Boden Södra inklusive tvärbanor  \n",
       "207          Hällnäs-Storuman och Forsmo-Hoting  \n",
       "...                                         ...  \n",
       "37724  Blekinge kustbana och kust till kustbana  \n",
       "37777                      Malmö sydöstra Skåne  \n",
       "37795  Blekinge kustbana och kust till kustbana  \n",
       "37825                Södra stambanan 2, del 1+2  \n",
       "37830                Södra stambanan 2, del 1+2  \n",
       "\n",
       "[6389 rows x 9 columns]"
      ]
     },
     "execution_count": 29,
     "metadata": {},
     "output_type": "execute_result"
    }
   ],
   "source": [
    "# check if bandel_fr and bandel_ti are the same\n",
    "print(length_df_processed[\"Kontraktsområdesnamn_fr\"].equals(length_df_processed[\"Kontraktsområdesnamn_ti\"]))\n",
    "length_df_processed[length_df_processed[\"Kontraktsområdesnamn_fr\"] != length_df_processed[\"Kontraktsområdesnamn_ti\"]]"
   ]
  },
  {
   "cell_type": "code",
   "execution_count": 30,
   "metadata": {},
   "outputs": [
    {
     "name": "stdout",
     "output_type": "stream",
     "text": [
      "34413\n",
      "28024\n"
     ]
    }
   ],
   "source": [
    "# remove rows where Kontraktsområdesnamn_fr and Kontraktsområdesnamn_ti are different\n",
    "print(len(length_df_processed))\n",
    "length_df_processed = length_df_processed[length_df_processed[\"Kontraktsområdesnamn_fr\"] == length_df_processed[\"Kontraktsområdesnamn_ti\"]]\n",
    "print(len(length_df_processed))\n",
    "# remove column Kontraktsområdesnamn_ti and rename Kontraktsområdesnamn_fr to Kontraktsområdesnamn\n",
    "length_df_processed.drop(columns=['Kontraktsområdesnamn_ti'], inplace=True)\n",
    "length_df_processed.rename(columns={'Kontraktsområdesnamn_fr': 'Kontraktsområdesnamn'}, inplace=True)"
   ]
  },
  {
   "cell_type": "markdown",
   "metadata": {},
   "source": [
    "Calculate the accumulated lengths between (km_fr and km_ti) from length_df and add it to contract_df."
   ]
  },
  {
   "cell_type": "code",
   "execution_count": 32,
   "metadata": {},
   "outputs": [],
   "source": [
    "# Step 1: Calculate the total length for each bandel and year\n",
    "length_df_processed['km_fr_ti'] = abs(length_df_processed['km_ti_max'] - length_df_processed['km_fr_min']) # convert to km\n",
    "length_per_contract_year = length_df_processed.groupby(['år', 'Kontraktsområdesnamn'])['km_fr_ti'].sum().reset_index()"
   ]
  },
  {
   "cell_type": "code",
   "execution_count": 13,
   "metadata": {},
   "outputs": [],
   "source": [
    "# Add column km_fr_ti to contract_df_merged by merging on year and contract region\n",
    "contract_df_merged = contract_df.merge(length_per_contract_year, left_on=['År', 'Kontraktsområdesnamn'], right_on=['år', 'Kontraktsområdesnamn'], how='left')\n",
    "contract_df_merged.drop(columns=['år'], inplace=True)"
   ]
  }
 ],
 "metadata": {
  "kernelspec": {
   "display_name": "Python 3",
   "language": "python",
   "name": "python3"
  },
  "language_info": {
   "codemirror_mode": {
    "name": "ipython",
    "version": 3
   },
   "file_extension": ".py",
   "mimetype": "text/x-python",
   "name": "python",
   "nbconvert_exporter": "python",
   "pygments_lexer": "ipython3",
   "version": "3.9.5"
  }
 },
 "nbformat": 4,
 "nbformat_minor": 2
}
