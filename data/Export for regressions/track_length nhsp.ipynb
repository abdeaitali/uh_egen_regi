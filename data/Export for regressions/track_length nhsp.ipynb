{
 "cells": [
  {
   "cell_type": "markdown",
   "metadata": {},
   "source": [
    "# Track length per contract region (and year)"
   ]
  },
  {
   "cell_type": "markdown",
   "metadata": {},
   "source": [
    "## Read input data"
   ]
  },
  {
   "cell_type": "code",
   "execution_count": 1,
   "metadata": {},
   "outputs": [],
   "source": [
    "import pandas as pd # type: ignore\n",
    "\n",
    "# Step 1: Load the Excel file \n",
    "excel_file_path = \"../Python matching/raw_data/Kontraktsområde, kontrakt, bandel.xlsx\"\n",
    "contract_df = pd.read_excel(excel_file_path, sheet_name=\"Kontraktsområden 2011-2023\")"
   ]
  },
  {
   "cell_type": "code",
   "execution_count": 2,
   "metadata": {},
   "outputs": [],
   "source": [
    "# rename column Kontraktsområdesnamn [kan behöva justeras] to Kontraktsområdesnamn\n",
    "contract_df.rename(columns={'Kontraktsområdesnamn [kan behöva justeras]': \"Kontraktsområdesnamn\"}, inplace=True)\n",
    "# rename column Kontraktsnummer \\n(Diarienummer) to Kontraktsnummer\n",
    "contract_df.rename(columns={\"Kontraktsnummer \\n(Diarienummer)\": \"Kontraktsnummer\"}, inplace=True)"
   ]
  },
  {
   "cell_type": "code",
   "execution_count": 3,
   "metadata": {},
   "outputs": [
    {
     "name": "stdout",
     "output_type": "stream",
     "text": [
      "Index(['År', 'Kontraktsområdesnamn', 'Fiktivt områdesnummer',\n",
      "       'Kontraktsnummer', 'Starttid', 'Sluttid', 'Bandel', 'Del av bandel',\n",
      "       'Övergång till nytt område', 'Övergång från gammalt område',\n",
      "       'Kommentar', 'Antagande'],\n",
      "      dtype='object')\n"
     ]
    }
   ],
   "source": [
    "print(contract_df.columns)"
   ]
  },
  {
   "cell_type": "code",
   "execution_count": 4,
   "metadata": {},
   "outputs": [
    {
     "data": {
      "text/plain": [
       "Index(['Banlangd', 'BdlNr', 'Bandel', 'Plats_sign', 'Plats', 'Forbind',\n",
       "       'Spår_huvud_sido', 'UNE', 'Spårnummer'],\n",
       "      dtype='object')"
      ]
     },
     "execution_count": 4,
     "metadata": {},
     "output_type": "execute_result"
    }
   ],
   "source": [
    "excel_file_path = \"../Python matching/raw_data/BIS-data 2024-01-09 - Bandel, plats och förbindelselinje, alla spår.xlsx\"\n",
    "bis_df = pd.read_excel(excel_file_path)\n",
    "bis_df.columns"
   ]
  },
  {
   "cell_type": "markdown",
   "metadata": {},
   "source": [
    "## Processing"
   ]
  },
  {
   "cell_type": "code",
   "execution_count": 5,
   "metadata": {},
   "outputs": [],
   "source": [
    "# # remove rows from contract_df where Övergång till nytt område is 1\n",
    "# print(len(contract_df))\n",
    "# contract_df = contract_df[contract_df[\"Övergång till nytt område\"] != 1]\n",
    "# print(len(contract_df))"
   ]
  },
  {
   "cell_type": "code",
   "execution_count": 6,
   "metadata": {},
   "outputs": [
    {
     "name": "stdout",
     "output_type": "stream",
     "text": [
      "3360\n",
      "3116\n"
     ]
    }
   ],
   "source": [
    "# if duplicates (same 'År', 'Bandel') are found in contract_df, keep the one with Övergång från gammalt område = 1\n",
    "# sort by 'Övergång från gammalt område' and drop duplicates\n",
    "print(len(contract_df))\n",
    "contract_df = contract_df.sort_values('Övergång från gammalt område').drop_duplicates(subset=['År', 'Bandel'], keep='first')\n",
    "# reset the order of the rows\n",
    "contract_df = contract_df.sort_index()\n",
    "print(len(contract_df))"
   ]
  },
  {
   "cell_type": "markdown",
   "metadata": {},
   "source": [
    "## Track length (nhsp)"
   ]
  },
  {
   "cell_type": "code",
   "execution_count": 7,
   "metadata": {},
   "outputs": [
    {
     "name": "stdout",
     "output_type": "stream",
     "text": [
      "Index(['Banlangd', 'BdlNr', 'Bandel', 'Plats_sign', 'Plats', 'Forbind',\n",
      "       'Spår_huvud_sido', 'UNE', 'Spårnummer'],\n",
      "      dtype='object')\n"
     ]
    }
   ],
   "source": [
    "print(bis_df.columns)"
   ]
  },
  {
   "cell_type": "markdown",
   "metadata": {},
   "source": [
    "```markdown\n",
    "To add the total track length on main tracks (normalhuvudspår, nhsp), we will use the columns `BdlNr` and `Spår_huvud_sido` (equal to 'nhsp') and `Banlangd` from `bis_df`. \n",
    "\n",
    "For each year, we will first add the column `Kontraktsområdesnamn` to `bis_df_processed` based on `BdlNr` using `contract_df`. This will give us the matching between `Kontraktsområdesnamn` and `Bandel` for a given year.\n",
    "```"
   ]
  },
  {
   "cell_type": "code",
   "execution_count": 8,
   "metadata": {},
   "outputs": [],
   "source": [
    "# first step is to filter bis_df to include only rows where Spår_huvud_sido is 'nhsp'\n",
    "bis_df_nhsp = bis_df[bis_df['Spår_huvud_sido'] == 'nhsp']"
   ]
  },
  {
   "cell_type": "code",
   "execution_count": 9,
   "metadata": {},
   "outputs": [],
   "source": [
    "# second, group by BdlNr and sum Banlangd\n",
    "bis_df_nhsp_grouped = bis_df_nhsp.groupby('BdlNr').agg({'Banlangd': 'sum'}).reset_index()\n",
    "# convert to km\n",
    "bis_df_nhsp_grouped['Banlangd'] = bis_df_nhsp_grouped['Banlangd'] / 1000 # convert to km"
   ]
  },
  {
   "cell_type": "code",
   "execution_count": 10,
   "metadata": {
    "vscode": {
     "languageId": "ruby"
    }
   },
   "outputs": [],
   "source": [
    "# Merge bis_df_nhsp with contract_df to get Kontraktsområdesnamn\n",
    "bis_df_processed = bis_df_nhsp_grouped.merge(contract_df[['År', 'Bandel', 'Kontraktsområdesnamn']], \n",
    "                                     left_on=['BdlNr'], \n",
    "                                     right_on=['Bandel'], \n",
    "                                     how='right')"
   ]
  },
  {
   "cell_type": "code",
   "execution_count": 11,
   "metadata": {
    "vscode": {
     "languageId": "ruby"
    }
   },
   "outputs": [],
   "source": [
    "# Remove rows where Kontraktsområdesnamn is NaN\n",
    "#bis_df_processed = bis_df_processed[bis_df_processed['Banlangd'].notna()]\n",
    "\n",
    "# Calculate the total track length for each year and Kontraktsområdesnamn\n",
    "banlangd_kontrakt = bis_df_processed.groupby(['År', 'Kontraktsområdesnamn', 'Bandel'])['Banlangd'].sum().reset_index()\n",
    "# Rename columns for clarity\n",
    "banlangd_kontrakt.rename(columns={'Banlangd': 'Banlangd_nhsp'}, inplace=True)"
   ]
  },
  {
   "cell_type": "markdown",
   "metadata": {},
   "source": [
    "## Track length (all spår)"
   ]
  },
  {
   "cell_type": "markdown",
   "metadata": {},
   "source": [
    "We do the same as for nhsp to calculate the length to all tracks."
   ]
  },
  {
   "cell_type": "code",
   "execution_count": 12,
   "metadata": {
    "vscode": {
     "languageId": "ruby"
    }
   },
   "outputs": [],
   "source": [
    "# second, group by BdlNr and sum Banlangd\n",
    "bis_df_grouped = bis_df.groupby('BdlNr').agg({'Banlangd': 'sum'}).reset_index()\n",
    "# convert to km\n",
    "bis_df_grouped['Banlangd'] = bis_df_grouped['Banlangd'] / 1000 # convert to km"
   ]
  },
  {
   "cell_type": "code",
   "execution_count": 13,
   "metadata": {
    "vscode": {
     "languageId": "ruby"
    }
   },
   "outputs": [],
   "source": [
    "# Merge bis_df_nhsp with contract_df to get Kontraktsområdesnamn\n",
    "bis_df_alla_processed = bis_df_grouped.merge(contract_df[['År', 'Bandel', 'Kontraktsområdesnamn']], \n",
    "                                     left_on=['BdlNr'], \n",
    "                                     right_on=['Bandel'], \n",
    "                                     how='right')"
   ]
  },
  {
   "cell_type": "code",
   "execution_count": 14,
   "metadata": {
    "vscode": {
     "languageId": "ruby"
    }
   },
   "outputs": [],
   "source": [
    "# Remove rows where Kontraktsområdesnamn is NaN\n",
    "#bis_df_alla_processed = bis_df_alla_processed[bis_df_alla_processed['Banlangd'].notna()]\n",
    "\n",
    "# Calculate the total track length for each year and Kontraktsområdesnamn\n",
    "banlangd_kontrakt_alla = bis_df_alla_processed.groupby(['År', 'Kontraktsområdesnamn', 'Bandel'])['Banlangd'].sum().reset_index()\n",
    "# Rename columns for clarity\n",
    "banlangd_kontrakt_alla.rename(columns={'Banlangd': 'Banlangd_alla'}, inplace=True)"
   ]
  },
  {
   "cell_type": "markdown",
   "metadata": {},
   "source": [
    "## Export all the data"
   ]
  },
  {
   "cell_type": "code",
   "execution_count": null,
   "metadata": {},
   "outputs": [],
   "source": [
    "# merge banlangd_kontrakt and banlangd_kontrakt_alla based on year and Kontraktsområdesnamn\n",
    "banlangd_kontrakt_merged = banlangd_kontrakt.merge(banlangd_kontrakt_alla,\n",
    "                                                   on=['År', 'Kontraktsområdesnamn','Bandel'],\n",
    "                                                    how='inner')\n",
    "\n",
    "# export to excel and csv\n",
    "banlangd_kontrakt_merged.to_excel('./exported_data_regression/banlangd_kontrakt_merged_bandelnr.xlsx', index=False)\n",
    "banlangd_kontrakt_merged.to_csv('./exported_data_regression/banlangd_kontrakt_merged_bandelnr.csv', index=False)"
   ]
  }
 ],
 "metadata": {
  "kernelspec": {
   "display_name": "Python 3",
   "language": "python",
   "name": "python3"
  },
  "language_info": {
   "codemirror_mode": {
    "name": "ipython",
    "version": 3
   },
   "file_extension": ".py",
   "mimetype": "text/x-python",
   "name": "python",
   "nbconvert_exporter": "python",
   "pygments_lexer": "ipython3",
   "version": "3.9.5"
  }
 },
 "nbformat": 4,
 "nbformat_minor": 2
}
