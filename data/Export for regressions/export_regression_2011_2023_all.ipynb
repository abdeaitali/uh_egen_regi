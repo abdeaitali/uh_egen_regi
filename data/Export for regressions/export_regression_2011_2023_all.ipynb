{
 "cells": [
  {
   "cell_type": "markdown",
   "metadata": {},
   "source": [
    "# Exporting track times for regressions (2011-2023)"
   ]
  },
  {
   "cell_type": "markdown",
   "metadata": {},
   "source": [
    "Assumptions:\n",
    "- Only conctracts between 2011 and 2023\n",
    "- Only main tracks (nhsp)\n",
    "- There are no track times for Långsele-Vännäs, Botniabanan (in 2023, after contract ends 2022). We therefore assume the same track times as in 2022."
   ]
  },
  {
   "cell_type": "markdown",
   "metadata": {},
   "source": [
    "For the regression data, we need to structure it as follows:\n",
    "- Years from 2011 until 2023\n",
    "- Contract regions (all contracts regions)\n",
    "- Wether servicefönster was applied during that year\n",
    "- If yes, what track times (as aggregated as possible) are provided\n"
   ]
  },
  {
   "cell_type": "markdown",
   "metadata": {},
   "source": [
    "## Import data"
   ]
  },
  {
   "cell_type": "markdown",
   "metadata": {},
   "source": [
    "We start with reading exported data after cleaning and matching of the track access times from contracts."
   ]
  },
  {
   "cell_type": "code",
   "execution_count": 29,
   "metadata": {},
   "outputs": [],
   "source": [
    "import pandas as pd # type: ignore\n",
    "\n",
    "# Step 1: Load the Excel file containing service contracts for each bandel\n",
    "excel_file_path = \"./exported_data_regression/Servicekontrakt_per_bandel_matched_all_2011_2023.xlsx\"\n",
    "\n",
    "\n",
    "# Read the specific sheet 'T24' into a DataFrame\n",
    "servicekontrakt_df = pd.read_excel(excel_file_path)"
   ]
  },
  {
   "cell_type": "code",
   "execution_count": 30,
   "metadata": {},
   "outputs": [
    {
     "data": {
      "text/plain": [
       "Index(['Kontraktsområdesnamn', 'Tidsperiod', 'Bandel', 'TPA timmar per år',\n",
       "       'TPA dagar per år', 'TPA veckor per år', 'TPA timmar natt per år',\n",
       "       'TPA timmar helg per år', 'EJ TPA timmar per år', 'EJ TPA dagar per år',\n",
       "       'EJ TPA veckor per år', 'EJ TPA timmar natt per år',\n",
       "       'EJ TPA timmar helg per år', 'Start_year', 'End_year', 'Bandelnr',\n",
       "       'Bandelnamn', 'Bandelnr_from_fuzzy_match', 'short_path', 'sum_langd',\n",
       "       'TPA km-timmar per år', 'TPA km-timmar natt per år',\n",
       "       'TPA km-timmar helg per år', 'EJ TPA km-timmar per år',\n",
       "       'EJ TPA km-timmar natt per år', 'EJ TPA km-timmar helg per år',\n",
       "       'kontrakt_från_bandel', 'Total timmar per år',\n",
       "       'Total km-timmar per år'],\n",
       "      dtype='object')"
      ]
     },
     "execution_count": 30,
     "metadata": {},
     "output_type": "execute_result"
    }
   ],
   "source": [
    "servicekontrakt_df.columns"
   ]
  },
  {
   "cell_type": "markdown",
   "metadata": {},
   "source": [
    "## Processing"
   ]
  },
  {
   "cell_type": "code",
   "execution_count": 31,
   "metadata": {},
   "outputs": [],
   "source": [
    "# set column to int\n",
    "servicekontrakt_df['Bandelnr'] = servicekontrakt_df['Bandelnr'].astype(int)"
   ]
  },
  {
   "cell_type": "markdown",
   "metadata": {},
   "source": [
    "## Construct regression data"
   ]
  },
  {
   "cell_type": "markdown",
   "metadata": {},
   "source": [
    "We first prepare some the years and contract regions. Then initialize the regression dataframe."
   ]
  },
  {
   "cell_type": "code",
   "execution_count": 32,
   "metadata": {},
   "outputs": [],
   "source": [
    "# Step 3: Create a base DataFrame with all combinations of years, contract regions, and their specific bandels\n",
    "years = list(range(2011, 2024))  # 2011 to 2023\n",
    "contract_regions = servicekontrakt_df['Kontraktsområdesnamn'].unique()\n",
    "\n",
    "# Create a list to hold all combinations\n",
    "combinations = []\n",
    "\n",
    "for year in years:\n",
    "    for region in contract_regions:\n",
    "        bandels = servicekontrakt_df[servicekontrakt_df['Kontraktsområdesnamn'] == region]['Bandelnr'].unique()\n",
    "        for bandel in bandels:\n",
    "            combinations.append([year, region, bandel])\n",
    "\n",
    "# Convert the list to a DataFrame\n",
    "regression_data = pd.DataFrame(combinations, columns=['Year', 'Kontraktsområdesnamn', 'Bandelnr'])\n",
    "# set Year and Bandelnr as integers\n",
    "#regression_data['Year'] = regression_data['Year'].astype(int)\n",
    "#regression_data['Bandelnr'] = regression_data['Bandelnr'].astype(int)"
   ]
  },
  {
   "cell_type": "markdown",
   "metadata": {},
   "source": [
    "Fill in with wether maintenance windows were applied or not."
   ]
  },
  {
   "cell_type": "code",
   "execution_count": 33,
   "metadata": {},
   "outputs": [],
   "source": [
    "# Step 2: Identify the first year a servicefönster was implemented for each contract region\n",
    "servicefönster_start_year = servicekontrakt_df.groupby(['Kontraktsområdesnamn'])['Start_year'].min().reset_index()\n",
    "servicefönster_start_year.rename(columns={'Start_year': 'First_Servicefönster_Year'}, inplace=True)\n",
    "\n",
    "# Step 4: Merge with the servicefönster start year data\n",
    "regression_data = regression_data.merge(servicefönster_start_year, on='Kontraktsområdesnamn', how='left')\n",
    "\n",
    "# Step 5: Determine if servicefönster was applied (True if Year >= First_Servicefönster_Year)\n",
    "regression_data['Servicefönster_applied'] = regression_data['Year'] >= regression_data['First_Servicefönster_Year']"
   ]
  },
  {
   "cell_type": "markdown",
   "metadata": {},
   "source": [
    "Expand the dataframe by duplicating the track times for each year."
   ]
  },
  {
   "cell_type": "code",
   "execution_count": 34,
   "metadata": {},
   "outputs": [],
   "source": [
    "# Step 6: Expand data to include all years between Start_year and End_year\n",
    "expanded_data = []\n",
    "\n",
    "for _, row in servicekontrakt_df.iterrows():\n",
    "    for year in range(row['Start_year'], row['End_year'] + 1):  # Include End_year\n",
    "        new_row = row.copy()\n",
    "        new_row['Year'] = year\n",
    "        expanded_data.append(new_row)\n",
    "\n",
    "expanded_servicekontrakt_df = pd.DataFrame(expanded_data)"
   ]
  },
  {
   "cell_type": "markdown",
   "metadata": {},
   "source": [
    "Fill in with information about the promised track times."
   ]
  },
  {
   "cell_type": "code",
   "execution_count": 35,
   "metadata": {},
   "outputs": [],
   "source": [
    "# Step 7: Define columns for aggregation\n",
    "track_time_columns = [\n",
    "    'TPA timmar per år', 'TPA timmar natt per år', 'TPA timmar helg per år',\n",
    "    'EJ TPA timmar per år', 'EJ TPA timmar natt per år', 'EJ TPA timmar helg per år', 'Total timmar per år'\n",
    "]\n",
    "\n",
    "track_distance_time_columns = [\n",
    "    'TPA km-timmar per år', 'TPA km-timmar natt per år', 'TPA km-timmar helg per år',\n",
    "    'EJ TPA km-timmar per år', 'EJ TPA km-timmar natt per år', 'EJ TPA km-timmar helg per år', 'Total km-timmar per år'\n",
    "]\n",
    "\n",
    "all_columns_to_aggregate = track_time_columns + track_distance_time_columns + ['Year', 'Kontraktsområdesnamn', 'Bandelnr']\n",
    "\n",
    "# Step 8: Aggregate service contract track times per year and contract region\n",
    "aggregated_times = expanded_servicekontrakt_df[all_columns_to_aggregate].groupby(['Year', 'Kontraktsområdesnamn', 'Bandelnr']).sum().reset_index()"
   ]
  },
  {
   "cell_type": "code",
   "execution_count": 36,
   "metadata": {},
   "outputs": [],
   "source": [
    "# # Step 9: Ensure all contract regions are represented for all years (2011-2023)\n",
    "# full_regression_data = pd.MultiIndex.from_product(\n",
    "#     [years, contract_regions], names=['Year', 'Kontraktsområdesnamn']\n",
    "#     ).to_frame(index=False)"
   ]
  },
  {
   "cell_type": "markdown",
   "metadata": {},
   "source": [
    "Merge the different dataframes."
   ]
  },
  {
   "cell_type": "code",
   "execution_count": 37,
   "metadata": {},
   "outputs": [],
   "source": [
    "# Step 10: Merge with aggregated data\n",
    "final_regression_data = regression_data.merge(aggregated_times, on=['Year', 'Kontraktsområdesnamn', 'Bandelnr'], how='left')"
   ]
  },
  {
   "cell_type": "markdown",
   "metadata": {},
   "source": [
    "## Export regression data"
   ]
  },
  {
   "cell_type": "code",
   "execution_count": 38,
   "metadata": {},
   "outputs": [],
   "source": [
    "# There are no track times for Långsele-Vännäs, Botniabanan (in 2023, after contract ends 2022). We therefore assume the same track times as in 2022.\n",
    "final_regression_data.loc[final_regression_data['Kontraktsområdesnamn'] == 'Långsele-Vännäs, Botniabanan', all_columns_to_aggregate] = final_regression_data.loc[final_regression_data['Kontraktsområdesnamn'] == 'Långsele-Vännäs, Botniabanan', all_columns_to_aggregate].ffill()\n",
    "\n",
    "# Step 11: Fill missing values with 0 (Assume no track time assigned)\n",
    "for col in all_columns_to_aggregate:\n",
    "    final_regression_data[col] = final_regression_data[col].fillna(0)"
   ]
  },
  {
   "cell_type": "code",
   "execution_count": null,
   "metadata": {},
   "outputs": [
    {
     "name": "stdout",
     "output_type": "stream",
     "text": [
      "✅ Regression data successfully exported:\n",
      "- CSV: ./exported_data_regression/regression_data_utlovade_tider_2011_2023.csv\n",
      "- Excel: ./exported_data_regression/regression_data_utlovade_tider_2011_2023.xlsx\n"
     ]
    }
   ],
   "source": [
    "# Step 12: Export the structured regression data\n",
    "output_csv = \"./exported_data_regression/regression_data_utlovade_tider_2011_2023_bandelnr.csv\"\n",
    "output_excel = \"./exported_data_regression/regression_data_utlovade_tider_2011_2023_bandelnr.xlsx\"\n",
    "\n",
    "final_regression_data.to_csv(output_csv, index=False)\n",
    "final_regression_data.to_excel(output_excel, index=False)\n",
    "\n",
    "print(f\"✅ Regression data successfully exported:\\n- CSV: {output_csv}\\n- Excel: {output_excel}\")\n"
   ]
  }
 ],
 "metadata": {
  "kernelspec": {
   "display_name": "Python 3",
   "language": "python",
   "name": "python3"
  },
  "language_info": {
   "codemirror_mode": {
    "name": "ipython",
    "version": 3
   },
   "file_extension": ".py",
   "mimetype": "text/x-python",
   "name": "python",
   "nbconvert_exporter": "python",
   "pygments_lexer": "ipython3",
   "version": "3.9.5"
  }
 },
 "nbformat": 4,
 "nbformat_minor": 2
}
