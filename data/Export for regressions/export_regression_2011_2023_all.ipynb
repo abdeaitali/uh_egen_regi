{
 "cells": [
  {
   "cell_type": "markdown",
   "metadata": {},
   "source": [
    "# Exporting track times for regressions (2011-2023)"
   ]
  },
  {
   "cell_type": "markdown",
   "metadata": {},
   "source": [
    "Assumptions:\n",
    "- Only conctracts between 2011 and 2023\n",
    "- Only main tracks (nhsp)"
   ]
  },
  {
   "cell_type": "markdown",
   "metadata": {},
   "source": [
    "For the regression data, we need to structure it as follows:\n",
    "- Years from 2011 until 2023\n",
    "- Contract regions (all contracts regions)\n",
    "- Wether servicefönster was applied during that year\n",
    "- If yes, what track times (as aggregated as possible) are provided\n"
   ]
  },
  {
   "cell_type": "markdown",
   "metadata": {},
   "source": [
    "## Import data"
   ]
  },
  {
   "cell_type": "markdown",
   "metadata": {},
   "source": [
    "We start with reading exported data after cleaning and matching of the track access times from contracts."
   ]
  },
  {
   "cell_type": "code",
   "execution_count": 1,
   "metadata": {},
   "outputs": [],
   "source": [
    "import pandas as pd # type: ignore\n",
    "\n",
    "# Step 1: Load the Excel file containing service contracts for each bandel\n",
    "excel_file_path = \"./exported_data_regression/Servicekontrakt_per_bandel_matched_all_2011_2023.xlsx\"\n",
    "\n",
    "\n",
    "# Read the specific sheet 'T24' into a DataFrame\n",
    "servicekontrakt_df = pd.read_excel(excel_file_path)"
   ]
  },
  {
   "cell_type": "code",
   "execution_count": 2,
   "metadata": {},
   "outputs": [
    {
     "data": {
      "text/plain": [
       "Index(['Kontraktsområdesnamn', 'Tidsperiod', 'Bandel', 'TPA timmar per år',\n",
       "       'TPA dagar per år', 'TPA veckor per år', 'TPA timmar natt per år',\n",
       "       'TPA timmar helg per år', 'EJ TPA timmar per år', 'EJ TPA dagar per år',\n",
       "       'EJ TPA veckor per år', 'EJ TPA timmar natt per år',\n",
       "       'EJ TPA timmar helg per år', 'Start_year', 'End_year', 'Bandelnr',\n",
       "       'Bandelnamn', 'Bandelnr_from_fuzzy_match', 'short_path', 'sum_langd',\n",
       "       'TPA km-timmar per år', 'TPA km-timmar natt per år',\n",
       "       'TPA km-timmar helg per år', 'EJ TPA km-timmar per år',\n",
       "       'EJ TPA km-timmar natt per år', 'EJ TPA km-timmar helg per år',\n",
       "       'kontrakt_från_bandel', 'Total timmar per år',\n",
       "       'Total km-timmar per år'],\n",
       "      dtype='object')"
      ]
     },
     "execution_count": 2,
     "metadata": {},
     "output_type": "execute_result"
    }
   ],
   "source": [
    "servicekontrakt_df.columns"
   ]
  },
  {
   "cell_type": "markdown",
   "metadata": {},
   "source": [
    "## Construct regression data"
   ]
  },
  {
   "cell_type": "markdown",
   "metadata": {},
   "source": [
    "We first prepare some the years and contract regions. Then initialize the regression dataframe."
   ]
  },
  {
   "cell_type": "code",
   "execution_count": 3,
   "metadata": {},
   "outputs": [],
   "source": [
    "# Step 3: Create a base DataFrame with all combinations of years and contract regions\n",
    "years = list(range(2011, 2024))  # 2011 to 2023\n",
    "contract_regions = servicekontrakt_df['Kontraktsområdesnamn'].unique()\n",
    "regression_data = pd.MultiIndex.from_product([years, contract_regions], names=['Year', 'Kontraktsområdesnamn']).to_frame(index=False)"
   ]
  },
  {
   "cell_type": "markdown",
   "metadata": {},
   "source": [
    "Fill in with wether maintenance windows were applied or not."
   ]
  },
  {
   "cell_type": "code",
   "execution_count": 4,
   "metadata": {},
   "outputs": [],
   "source": [
    "# Step 2: Identify the first year a servicefönster was implemented for each contract region\n",
    "servicefönster_start_year = servicekontrakt_df.groupby('Kontraktsområdesnamn')['Start_year'].min().reset_index()\n",
    "servicefönster_start_year.rename(columns={'Start_year': 'First_Servicefönster_Year'}, inplace=True)\n",
    "\n",
    "# Step 4: Merge with the servicefönster start year data\n",
    "regression_data = regression_data.merge(servicefönster_start_year, on='Kontraktsområdesnamn', how='left')\n",
    "\n",
    "# Step 5: Determine if servicefönster was applied (True if Year >= First_Servicefönster_Year)\n",
    "regression_data['Servicefönster_applied'] = regression_data['Year'] >= regression_data['First_Servicefönster_Year']"
   ]
  },
  {
   "cell_type": "markdown",
   "metadata": {},
   "source": [
    "Expand the dataframe by duplicating the track times for each year."
   ]
  },
  {
   "cell_type": "code",
   "execution_count": 5,
   "metadata": {},
   "outputs": [],
   "source": [
    "# Step 6: Expand data to include all years between Start_year and End_year\n",
    "expanded_data = []\n",
    "\n",
    "for _, row in servicekontrakt_df.iterrows():\n",
    "    for year in range(row['Start_year'], row['End_year'] + 1):  # Include End_year\n",
    "        new_row = row.copy()\n",
    "        new_row['Year'] = year\n",
    "        expanded_data.append(new_row)\n",
    "\n",
    "expanded_servicekontrakt_df = pd.DataFrame(expanded_data)"
   ]
  },
  {
   "cell_type": "markdown",
   "metadata": {},
   "source": [
    "Fill in with information about the promised track times."
   ]
  },
  {
   "cell_type": "code",
   "execution_count": null,
   "metadata": {},
   "outputs": [],
   "source": [
    "# Step 7: Define columns for aggregation\n",
    "track_time_columns = [\n",
    "    'TPA timmar per år', 'TPA timmar natt per år', 'TPA timmar helg per år',\n",
    "    'EJ TPA timmar per år', 'EJ TPA timmar natt per år', 'EJ TPA timmar helg per år', 'Total timmar per år'\n",
    "]\n",
    "\n",
    "track_distance_time_columns = [\n",
    "    'TPA km-timmar per år', 'TPA km-timmar natt per år', 'TPA km-timmar helg per år',\n",
    "    'EJ TPA km-timmar per år', 'EJ TPA km-timmar natt per år', 'EJ TPA km-timmar helg per år', 'Total km-timmar per år'\n",
    "]\n",
    "\n",
    "all_columns_to_aggregate = track_time_columns + track_distance_time_columns\n",
    "\n",
    "# Step 8: Aggregate service contract track times per year and contract region\n",
    "aggregated_times = expanded_servicekontrakt_df.groupby(['Year', 'Kontraktsområdesnamn'])[all_columns_to_aggregate].sum().reset_index()\n",
    "\n",
    "# Step 9: Ensure all contract regions are represented for all years (2011-2023)\n",
    "full_regression_data = pd.MultiIndex.from_product([years, contract_regions], names=['Year', 'Kontraktsområdesnamn']).to_frame(index=False)"
   ]
  },
  {
   "cell_type": "code",
   "execution_count": null,
   "metadata": {},
   "outputs": [],
   "source": [
    "# Step 10: Merge with aggregated data\n",
    "final_regression_data = full_regression_data.merge(aggregated_times, on=['Year', 'Kontraktsområdesnamn'], how='left')"
   ]
  },
  {
   "cell_type": "markdown",
   "metadata": {},
   "source": [
    "## Export regression data"
   ]
  },
  {
   "cell_type": "code",
   "execution_count": null,
   "metadata": {},
   "outputs": [],
   "source": [
    "# Step 11: Fill missing values with 0 (Assume no track time assigned)\n",
    "for col in all_columns_to_aggregate:\n",
    "    final_regression_data[col] = final_regression_data[col].fillna(0)\n",
    "\n",
    "# Step 12: Export the structured regression data\n",
    "output_csv = \"./exported_data_regression/Regression_Track_Times_2011_2023.csv\"\n",
    "output_excel = \"./exported_data_regression/Regression_Track_Times_2011_2023.xlsx\"\n",
    "\n",
    "final_regression_data.to_csv(output_csv, index=False)\n",
    "final_regression_data.to_excel(output_excel, index=False)\n",
    "\n",
    "print(f\"✅ Regression data successfully exported:\\n- CSV: {output_csv}\\n- Excel: {output_excel}\")\n"
   ]
  }
 ],
 "metadata": {
  "kernelspec": {
   "display_name": "Python 3",
   "language": "python",
   "name": "python3"
  },
  "language_info": {
   "codemirror_mode": {
    "name": "ipython",
    "version": 3
   },
   "file_extension": ".py",
   "mimetype": "text/x-python",
   "name": "python",
   "nbconvert_exporter": "python",
   "pygments_lexer": "ipython3",
   "version": "3.9.5"
  }
 },
 "nbformat": 4,
 "nbformat_minor": 2
}
