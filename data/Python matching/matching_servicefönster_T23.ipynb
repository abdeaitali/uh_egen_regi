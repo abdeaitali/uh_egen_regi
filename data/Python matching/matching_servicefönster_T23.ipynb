{
 "cells": [
  {
   "cell_type": "markdown",
   "metadata": {},
   "source": [
    "# Matching TCR (servicefönster) to maintenance contracts"
   ]
  },
  {
   "cell_type": "markdown",
   "metadata": {},
   "source": [
    "We first start by reading the cleaned TCRs for 2023 which includes only maintenance windows (servicefönster)."
   ]
  },
  {
   "cell_type": "code",
   "execution_count": 18,
   "metadata": {},
   "outputs": [],
   "source": [
    "import pandas as pd\n",
    "\n",
    "# Define the columns to read\n",
    "columns_to_read = [\n",
    "    'TCR-id', \n",
    "    'Område',\n",
    "    'Klassificering', \n",
    "    'Från trafikplats',  \n",
    "    'Från linjespår', \n",
    "    'Från inkluderad', \n",
    "    'Platssekvensnummer', \n",
    "    'Beskrivning',\n",
    "    'Starttid', \n",
    "    'Sluttid', \n",
    "    'Servicefönster_nya_kategorier',\n",
    "    'Relaterade TPÅ:er'\n",
    "]\n",
    "\n",
    "# Read the CSV file, selecting only specified columns\n",
    "csv_file_path = \"TCR_T23_X4_servicefönster_cleaned.csv\"\n",
    "tcr_df = pd.read_csv(\n",
    "    csv_file_path, \n",
    "    delimiter=';', \n",
    "    usecols=columns_to_read,  # Import only these columns\n",
    "    on_bad_lines='skip', \n",
    "    encoding='utf-8',\n",
    "    low_memory=False\n",
    ")\n"
   ]
  },
  {
   "cell_type": "markdown",
   "metadata": {},
   "source": [
    "We do some preprocessings:\n",
    "- set data types\n",
    "- add column for the duration of the TCRs\n",
    "- remove cancelled TCRs"
   ]
  },
  {
   "cell_type": "code",
   "execution_count": 19,
   "metadata": {},
   "outputs": [],
   "source": [
    "# Convert 'Starttid' and 'Sluttid' columns to datetime format\n",
    "tcr_df['Starttid'] = pd.to_datetime(tcr_df['Starttid'], errors='coerce')\n",
    "tcr_df['Sluttid'] = pd.to_datetime(tcr_df['Sluttid'], errors='coerce')"
   ]
  },
  {
   "cell_type": "code",
   "execution_count": 20,
   "metadata": {},
   "outputs": [],
   "source": [
    "# Create a new column 'tid' representing the difference between 'Sluttid' and 'Starttid'\n",
    "tcr_df['tid_timmar'] = (tcr_df['Sluttid'] - tcr_df['Starttid']).dt.total_seconds() / 3600"
   ]
  },
  {
   "cell_type": "markdown",
   "metadata": {},
   "source": [
    "we now extract from column Relaterade TPÅ:er, the maintenance contract number and put it in another column."
   ]
  },
  {
   "cell_type": "code",
   "execution_count": 21,
   "metadata": {},
   "outputs": [],
   "source": [
    "import re\n",
    "\n",
    "# List of allowed numbers to keep and their corresponding names\n",
    "allowed_numbers = {\n",
    "    \"19685\": \"Malmö och sydöstra Skåne\",\n",
    "    \"19686\": \"Blekinge Kustbana, Kust till Kust banan E2\",\n",
    "    \"19352\": \"Holmsund-Boden S inkl. tvärbanor\",\n",
    "    \"19684\": \"Jönköpingsbanan\",\n",
    "    \"19353\": \"Botniabanan, samt Långsele-Örnsköldsvik-Vännäs samt Forsmo-Hoting\",\n",
    "    \"19679\": \"Länsbanorna i Östergötland och Östra Småland\",\n",
    "    \"19351\": \"Norra Malmbanan\",\n",
    "    \"19354\": \"Södra Malmbanan, Haparandabanan\",\n",
    "    \"19680\": \"Södra Stambanan 1+2, Syd\",\n",
    "    \"19468\": \"Värmland-Dalsland\",\n",
    "    \"19469\": \"Västkustbanan E1, Väst\",\n",
    "    \"19683\": \"Västkustbanan E2, Syd\",\n",
    "    \"19470\": \"Västra Götaland - Göteborg\",\n",
    "    \"19485\": \"Västra Götaland Väst\",\n",
    "    \"19486\": \"Västra Götaland Öst\",\n",
    "    \"21283\": \"Banorna i Bergslagen samt Godsstråket\",\n",
    "    \"19325\": \"Banorna i Bergslagen samt Godsstråket\",\n",
    "    \"19326\": \"Banorna i Bergslagen samt Godsstråket\",\n",
    "    \"19654\": \"Dalabanan, Bergslagspendeln del av Sala-Oxelösund\",\n",
    "    \"19653\": \"Godsstråket\",\n",
    "    \"19655\": \"Stockholm bg, Hagalund\",\n",
    "    \"18015\": \"Kust till kust Väst\",\n",
    "    \"19656\": \"Länsbanorna i Östergötland och Östra Småland\",\n",
    "    \"19327\": \"Mittbanan, Ådalsbanan, samt Forsmo-Hoting\",\n",
    "    \"19657\": \"Mälarbanan\",\n",
    "    \"19324\": \"Norra Stambanan\",\n",
    "    \"17948\": \"Ostkustbanan\",\n",
    "    \"22660\": \"Stockholm bg, Hagalund\",\n",
    "    \"22659\": \"Sthlm Mitt, Citybanan\",\n",
    "    \"19658\": \"Sthlm Mitt, Citybanan\",\n",
    "    \"19659\": \"Stockholm Nord\",\n",
    "    \"19660\": \"Stockholm Syd\",\n",
    "    \"19661\": \"Svealandsbanan, Kolbäck-Rekarne, Eskilstuna-Flen\",\n",
    "    \"19662\": \"Södra Stambanan 1+2, Syd\",\n",
    "    \"20354\": \"Södra Stambanan 1+2, Öst\",\n",
    "    \"19664\": \"Västra Stambanan Hallsberg - Laxå\",\n",
    "    \"20353\": \"Västra Södra Stambanan, Västra stambanan Gnesta - Hallsberg\",\n",
    "    \"19663\": \"Västra Södra Stambanan, Västra stambanan Gnesta - Hallsberg\"\n",
    "}\n",
    "\n",
    "\n",
    "# Extract the first unique number from 'Relaterade TPÅ:er' and put it in a new column 'Relaterad åtgärdsnummer'\n",
    "def extract_first_number(value):\n",
    "    if pd.isna(value):\n",
    "        return None\n",
    "    match = re.findall(r'\\b(\\d+)\\b', value)\n",
    "    if match:\n",
    "        return match[0]  # Extract the first unique number found\n",
    "    return None\n",
    "\n",
    "if 'Relaterade TPÅ:er' in tcr_df.columns:\n",
    "    tcr_df['Relaterad åtgärdsnummer'] = tcr_df['Relaterade TPÅ:er'].apply(extract_first_number)\n",
    "\n",
    "# Create a new column 'Relaterad kontrakt' with the corresponding name for 'Relaterad åtgärdsnummer'\n",
    "tcr_df['Relaterad kontrakt'] = tcr_df['Relaterad åtgärdsnummer'].map(allowed_numbers)"
   ]
  },
  {
   "cell_type": "code",
   "execution_count": 22,
   "metadata": {},
   "outputs": [],
   "source": [
    "csv_file_path = \"TCR_T23_matched.csv\"\n",
    "tcr_df.to_csv(csv_file_path, index=False)\n",
    "\n",
    "# and for excel\n",
    "excel_file_path = \"TCR_T23_matched.xlsx\"\n",
    "tcr_df.to_excel(excel_file_path, index=False)"
   ]
  }
 ],
 "metadata": {
  "kernelspec": {
   "display_name": "Python 3",
   "language": "python",
   "name": "python3"
  },
  "language_info": {
   "codemirror_mode": {
    "name": "ipython",
    "version": 3
   },
   "file_extension": ".py",
   "mimetype": "text/x-python",
   "name": "python",
   "nbconvert_exporter": "python",
   "pygments_lexer": "ipython3",
   "version": "3.9.5"
  }
 },
 "nbformat": 4,
 "nbformat_minor": 2
}
